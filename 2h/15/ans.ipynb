{
 "cells": [
  {
   "cell_type": "code",
   "execution_count": 1,
   "metadata": {},
   "outputs": [],
   "source": [
    "import pandas as pd"
   ]
  },
  {
   "cell_type": "code",
   "execution_count": 2,
   "metadata": {},
   "outputs": [
    {
     "name": "stdout",
     "output_type": "stream",
     "text": [
      "  type    age  gender  survival\n",
      "0  1st   0.92    male         1\n",
      "1  1st   2.00  female         0\n",
      "2  1st   4.00    male         1\n",
      "3  1st   6.00    male         1\n",
      "4  1st  11.00    male         1\n",
      "5  1st  13.00    male         1\n",
      "6  1st  14.00  female         1\n",
      "7  1st  15.00  female         1\n",
      "8  1st  16.00  female         1\n",
      "9  1st  16.00  female         1\n"
     ]
    }
   ],
   "source": [
    "df = pd.read_csv('titanic.csv', names=[\"type\", \"age\", \"gender\", \"survival\"])\n",
    "print(df.head(10))\n"
   ]
  },
  {
   "cell_type": "code",
   "execution_count": 3,
   "metadata": {},
   "outputs": [
    {
     "name": "stdout",
     "output_type": "stream",
     "text": [
      "生還者数:  313\n",
      "死亡者数:  443\n"
     ]
    }
   ],
   "source": [
    "# 問題4\n",
    "print(\"生還者数: \", len(df[df[\"survival\"] == 1]))\n",
    "print(\"死亡者数: \", len(df[df[\"survival\"] == 0]))\n"
   ]
  },
  {
   "cell_type": "code",
   "execution_count": 4,
   "metadata": {},
   "outputs": [
    {
     "name": "stdout",
     "output_type": "stream",
     "text": [
      "男性生還者割合 20.51282051282051\n",
      "女性生還者割合 75.34722222222221\n"
     ]
    }
   ],
   "source": [
    "# 問題5\n",
    "def get_surviors_ratio_by_gender(g):\n",
    "    male_surviors = len(df[(df[\"survival\"] == 1) & (df[\"gender\"] == g)])\n",
    "    males = len(df[df[\"gender\"] == g])\n",
    "    return male_surviors / males\n",
    "\n",
    "print(\"男性生還者割合\", get_surviors_ratio_by_gender(\"male\") * 100)\n",
    "print(\"女性生還者割合\", get_surviors_ratio_by_gender(\"female\") * 100)\n"
   ]
  },
  {
   "cell_type": "code",
   "execution_count": 5,
   "metadata": {},
   "outputs": [
    {
     "name": "stdout",
     "output_type": "stream",
     "text": [
      "1st生還者割合 61.504424778761056\n",
      "2nd生還者割合 45.28301886792453\n",
      "3rd生還者割合 24.528301886792452\n"
     ]
    }
   ],
   "source": [
    "# 問題6\n",
    "def get_surviors_ratio_by_type(t):\n",
    "    surviors = len(df[(df[\"survival\"] == 1) & (df[\"type\"] == t)])\n",
    "    nums = len(df[df[\"type\"] == t])\n",
    "    return surviors / nums\n",
    "\n",
    "print(\"1st生還者割合\", get_surviors_ratio_by_type(\"1st\") * 100)\n",
    "print(\"2nd生還者割合\", get_surviors_ratio_by_type(\"2nd\") * 100)\n",
    "print(\"3rd生還者割合\", get_surviors_ratio_by_type(\"3rd\") * 100)\n"
   ]
  },
  {
   "cell_type": "code",
   "execution_count": 6,
   "metadata": {},
   "outputs": [
    {
     "name": "stdout",
     "output_type": "stream",
     "text": [
      "生還者平均年齢:  29.35958466453674\n",
      "死亡者平均年齢:  31.131670428893905\n"
     ]
    }
   ],
   "source": [
    "# 問題7\n",
    "def get_avg_age_by_survival(s):\n",
    "    age_sum = sum(df[df[\"survival\"] == s][\"age\"])\n",
    "    nums = len(df[df[\"survival\"] == s])\n",
    "    return age_sum / nums\n",
    "\n",
    "print(\"生還者平均年齢: \", get_avg_age_by_survival(1))\n",
    "print(\"死亡者平均年齢: \", get_avg_age_by_survival(0))\n"
   ]
  },
  {
   "cell_type": "code",
   "execution_count": 9,
   "metadata": {},
   "outputs": [
    {
     "name": "stdout",
     "output_type": "stream",
     "text": [
      "子供生還割合:  63.23529411764706\n",
      "大人生還割合:  39.55882352941176\n",
      "老人生還割合:  12.5\n"
     ]
    }
   ],
   "source": [
    "# 問題8\n",
    "def get_surviors_ratio_by_age(age_min, age_max):\n",
    "    surviors = len(df[(df[\"age\"] >= age_min) & (df[\"age\"] < age_max) & df[\"survival\"] == 1])\n",
    "    nums = len(df[(df[\"age\"] >= age_min) & (df[\"age\"] < age_max)])\n",
    "    return surviors / nums\n",
    "\n",
    "print(\"子供生還割合: \", get_surviors_ratio_by_age(0, 15) * 100)\n",
    "print(\"大人生還割合: \", get_surviors_ratio_by_age(15, 65) * 100)\n",
    "print(\"老人生還割合: \", get_surviors_ratio_by_age(65, 1000) * 100)\n"
   ]
  }
 ],
 "metadata": {
  "kernelspec": {
   "display_name": "Python 3",
   "language": "python",
   "name": "python3"
  },
  "language_info": {
   "codemirror_mode": {
    "name": "ipython",
    "version": 3
   },
   "file_extension": ".py",
   "mimetype": "text/x-python",
   "name": "python",
   "nbconvert_exporter": "python",
   "pygments_lexer": "ipython3",
   "version": "3.10.12"
  }
 },
 "nbformat": 4,
 "nbformat_minor": 2
}
