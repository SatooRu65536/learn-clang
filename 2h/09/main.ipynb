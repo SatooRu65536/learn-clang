{
 "cells": [
  {
   "cell_type": "code",
   "execution_count": 24,
   "metadata": {},
   "outputs": [
    {
     "name": "stdout",
     "output_type": "stream",
     "text": [
      "     year  month  date        lat        lang intensity\n",
      "319  2011      3    11  38.062000  143.604000         2\n",
      "320  2011      3    11  38.804500  140.860333         3\n",
      "321  2011      3    11  36.228667  139.887667         1\n",
      "322  2011      3    11  38.472333  143.250500         1\n",
      "323  2011      3    11  38.633500  143.247667         1\n",
      "..    ...    ...   ...        ...         ...       ...\n",
      "833  2011      3    11  36.006167  142.137500         2\n",
      "834  2011      3    11  35.971500  141.570333         3\n",
      "835  2011      3    11  37.039667  141.136000         2\n",
      "836  2011      3    11  36.186833  141.457333         1\n",
      "837  2011      3    11  37.060000  141.297167         2\n",
      "\n",
      "[519 rows x 6 columns]\n"
     ]
    },
    {
     "data": {
      "text/plain": [
       "519"
      ]
     },
     "execution_count": 24,
     "metadata": {},
     "output_type": "execute_result"
    }
   ],
   "source": [
    "import pandas as pd\n",
    "\n",
    "columns = ['year', 'month', 'date', 'lat', 'lang', 'intensity']\n",
    "earthquakes = pd.read_csv(\"h2011_eq.csv\", names=columns, header=None)\n",
    "# 3月11日の数値を取得\n",
    "earthquakes = earthquakes[earthquakes['month'] == 3]\n",
    "earthquakes = earthquakes[earthquakes['date'] == 11]\n",
    "\n",
    "print(earthquakes)\n",
    "\n",
    "len(earthquakes)"
   ]
  }
 ],
 "metadata": {
  "kernelspec": {
   "display_name": "Python 3",
   "language": "python",
   "name": "python3"
  },
  "language_info": {
   "codemirror_mode": {
    "name": "ipython",
    "version": 3
   },
   "file_extension": ".py",
   "mimetype": "text/x-python",
   "name": "python",
   "nbconvert_exporter": "python",
   "pygments_lexer": "ipython3",
   "version": "3.10.12"
  }
 },
 "nbformat": 4,
 "nbformat_minor": 2
}
