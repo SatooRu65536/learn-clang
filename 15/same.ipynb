{
 "cells": [
  {
   "cell_type": "code",
   "execution_count": 1,
   "metadata": {},
   "outputs": [],
   "source": [
    "import subprocess\n",
    "import os\n",
    "import difflib\n"
   ]
  },
  {
   "cell_type": "code",
   "execution_count": 3,
   "metadata": {},
   "outputs": [
    {
     "name": "stdout",
     "output_type": "stream",
     "text": [
      "問題 1 ok\n",
      "問題 2 ok\n",
      "問題 3 ok\n",
      "問題 4 ok\n",
      "問題 5 ok\n",
      "問題 6 ok\n",
      "問題 7 ok\n",
      "問題 8 ok\n"
     ]
    },
    {
     "data": {
      "text/plain": [
       "0"
      ]
     },
     "execution_count": 3,
     "metadata": {},
     "output_type": "execute_result"
    }
   ],
   "source": [
    "# 確認\n",
    "for n in range(1, 9):\n",
    "    os.system(f'gcc -o a q{n}.c')\n",
    "    os.system(f'gcc -o b ../zzz_15/q{n}.c')\n",
    "    res_a = subprocess.run('./a', capture_output=True, text=True).stdout\n",
    "    res_b = subprocess.run('./b', capture_output=True, text=True).stdout\n",
    "\n",
    "    print(f'問題 {n}', 'ok' if res_a == res_b else 'Error')\n",
    "\n",
    "os.system('rm ./a')\n",
    "os.system('rm ./b')"
   ]
  }
 ],
 "metadata": {
  "kernelspec": {
   "display_name": "Python 3",
   "language": "python",
   "name": "python3"
  },
  "language_info": {
   "codemirror_mode": {
    "name": "ipython",
    "version": 3
   },
   "file_extension": ".py",
   "mimetype": "text/x-python",
   "name": "python",
   "nbconvert_exporter": "python",
   "pygments_lexer": "ipython3",
   "version": "3.10.12"
  }
 },
 "nbformat": 4,
 "nbformat_minor": 2
}
