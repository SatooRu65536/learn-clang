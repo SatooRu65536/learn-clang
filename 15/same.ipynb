{
 "cells": [
  {
   "cell_type": "code",
   "execution_count": null,
   "metadata": {},
   "outputs": [],
   "source": [
    "import subprocess\n",
    "import os\n",
    "import difflib\n"
   ]
  },
  {
   "cell_type": "code",
   "execution_count": null,
   "metadata": {},
   "outputs": [],
   "source": [
    "# 確認\n",
    "for n in range(1, 9):\n",
    "    try:\n",
    "        os.system(f'gcc -o a q{n}.c')\n",
    "        os.system(f'gcc -o b ../keep/q{n}.c')\n",
    "        res_a = subprocess.run('./a', capture_output=True, text=True).stdout\n",
    "        res_b = subprocess.run('./b', capture_output=True, text=True).stdout\n",
    "\n",
    "        print(f'問題 {n}', 'ok' if res_a == res_b else 'Error')\n",
    "    except:\n",
    "        pass\n",
    "\n",
    "os.system('rm ./a')\n",
    "os.system('rm ./b')"
   ]
  }
 ],
 "metadata": {
  "kernelspec": {
   "display_name": "Python 3",
   "language": "python",
   "name": "python3"
  },
  "language_info": {
   "codemirror_mode": {
    "name": "ipython",
    "version": 3
   },
   "file_extension": ".py",
   "mimetype": "text/x-python",
   "name": "python",
   "nbconvert_exporter": "python",
   "pygments_lexer": "ipython3",
   "version": "3.10.12"
  }
 },
 "nbformat": 4,
 "nbformat_minor": 2
}
